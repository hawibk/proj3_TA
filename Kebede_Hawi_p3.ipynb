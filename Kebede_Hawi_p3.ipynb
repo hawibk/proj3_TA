{
 "cells": [
  {
   "cell_type": "code",
   "execution_count": 31,
   "metadata": {},
   "outputs": [],
   "source": [
    "#access the data \n",
    "import pandas as pd"
   ]
  },
  {
   "cell_type": "code",
   "execution_count": 32,
   "metadata": {},
   "outputs": [],
   "source": [
    "df_yummly = pd.read_json(r'yummly.json')"
   ]
  },
  {
   "cell_type": "code",
   "execution_count": 33,
   "metadata": {},
   "outputs": [
    {
     "data": {
      "text/html": [
       "<div>\n",
       "<style scoped>\n",
       "    .dataframe tbody tr th:only-of-type {\n",
       "        vertical-align: middle;\n",
       "    }\n",
       "\n",
       "    .dataframe tbody tr th {\n",
       "        vertical-align: top;\n",
       "    }\n",
       "\n",
       "    .dataframe thead th {\n",
       "        text-align: right;\n",
       "    }\n",
       "</style>\n",
       "<table border=\"1\" class=\"dataframe\">\n",
       "  <thead>\n",
       "    <tr style=\"text-align: right;\">\n",
       "      <th></th>\n",
       "      <th>id</th>\n",
       "      <th>cuisine</th>\n",
       "      <th>ingredients</th>\n",
       "    </tr>\n",
       "  </thead>\n",
       "  <tbody>\n",
       "    <tr>\n",
       "      <td>0</td>\n",
       "      <td>10259</td>\n",
       "      <td>greek</td>\n",
       "      <td>[romaine lettuce, black olives, grape tomatoes...</td>\n",
       "    </tr>\n",
       "    <tr>\n",
       "      <td>1</td>\n",
       "      <td>25693</td>\n",
       "      <td>southern_us</td>\n",
       "      <td>[plain flour, ground pepper, salt, tomatoes, g...</td>\n",
       "    </tr>\n",
       "    <tr>\n",
       "      <td>2</td>\n",
       "      <td>20130</td>\n",
       "      <td>filipino</td>\n",
       "      <td>[eggs, pepper, salt, mayonaise, cooking oil, g...</td>\n",
       "    </tr>\n",
       "    <tr>\n",
       "      <td>3</td>\n",
       "      <td>22213</td>\n",
       "      <td>indian</td>\n",
       "      <td>[water, vegetable oil, wheat, salt]</td>\n",
       "    </tr>\n",
       "    <tr>\n",
       "      <td>4</td>\n",
       "      <td>13162</td>\n",
       "      <td>indian</td>\n",
       "      <td>[black pepper, shallots, cornflour, cayenne pe...</td>\n",
       "    </tr>\n",
       "    <tr>\n",
       "      <td>...</td>\n",
       "      <td>...</td>\n",
       "      <td>...</td>\n",
       "      <td>...</td>\n",
       "    </tr>\n",
       "    <tr>\n",
       "      <td>39769</td>\n",
       "      <td>29109</td>\n",
       "      <td>irish</td>\n",
       "      <td>[light brown sugar, granulated sugar, butter, ...</td>\n",
       "    </tr>\n",
       "    <tr>\n",
       "      <td>39770</td>\n",
       "      <td>11462</td>\n",
       "      <td>italian</td>\n",
       "      <td>[KRAFT Zesty Italian Dressing, purple onion, b...</td>\n",
       "    </tr>\n",
       "    <tr>\n",
       "      <td>39771</td>\n",
       "      <td>2238</td>\n",
       "      <td>irish</td>\n",
       "      <td>[eggs, citrus fruit, raisins, sourdough starte...</td>\n",
       "    </tr>\n",
       "    <tr>\n",
       "      <td>39772</td>\n",
       "      <td>41882</td>\n",
       "      <td>chinese</td>\n",
       "      <td>[boneless chicken skinless thigh, minced garli...</td>\n",
       "    </tr>\n",
       "    <tr>\n",
       "      <td>39773</td>\n",
       "      <td>2362</td>\n",
       "      <td>mexican</td>\n",
       "      <td>[green chile, jalapeno chilies, onions, ground...</td>\n",
       "    </tr>\n",
       "  </tbody>\n",
       "</table>\n",
       "<p>39774 rows × 3 columns</p>\n",
       "</div>"
      ],
      "text/plain": [
       "          id      cuisine                                        ingredients\n",
       "0      10259        greek  [romaine lettuce, black olives, grape tomatoes...\n",
       "1      25693  southern_us  [plain flour, ground pepper, salt, tomatoes, g...\n",
       "2      20130     filipino  [eggs, pepper, salt, mayonaise, cooking oil, g...\n",
       "3      22213       indian                [water, vegetable oil, wheat, salt]\n",
       "4      13162       indian  [black pepper, shallots, cornflour, cayenne pe...\n",
       "...      ...          ...                                                ...\n",
       "39769  29109        irish  [light brown sugar, granulated sugar, butter, ...\n",
       "39770  11462      italian  [KRAFT Zesty Italian Dressing, purple onion, b...\n",
       "39771   2238        irish  [eggs, citrus fruit, raisins, sourdough starte...\n",
       "39772  41882      chinese  [boneless chicken skinless thigh, minced garli...\n",
       "39773   2362      mexican  [green chile, jalapeno chilies, onions, ground...\n",
       "\n",
       "[39774 rows x 3 columns]"
      ]
     },
     "execution_count": 33,
     "metadata": {},
     "output_type": "execute_result"
    }
   ],
   "source": [
    "df_yummly"
   ]
  },
  {
   "cell_type": "code",
   "execution_count": 34,
   "metadata": {},
   "outputs": [],
   "source": [
    "res = []\n",
    "for i in df_yummly['ingredients']:\n",
    "    \n",
    "    #for j in df_yummly['cuisine']:\n",
    "    res.append(i)\n",
    "        #res.append(j)"
   ]
  },
  {
   "cell_type": "code",
   "execution_count": 35,
   "metadata": {},
   "outputs": [],
   "source": [
    "new_list = []\n",
    "\n",
    "for row, index in df_yummly.iterrows():\n",
    "    new = [index.id, index.cuisine, index.ingredients]\n",
    "    new_list.append(new)"
   ]
  },
  {
   "cell_type": "code",
   "execution_count": 36,
   "metadata": {},
   "outputs": [],
   "source": [
    "df_yummly['new'] = new_list"
   ]
  },
  {
   "cell_type": "code",
   "execution_count": 37,
   "metadata": {},
   "outputs": [
    {
     "data": {
      "text/html": [
       "<div>\n",
       "<style scoped>\n",
       "    .dataframe tbody tr th:only-of-type {\n",
       "        vertical-align: middle;\n",
       "    }\n",
       "\n",
       "    .dataframe tbody tr th {\n",
       "        vertical-align: top;\n",
       "    }\n",
       "\n",
       "    .dataframe thead th {\n",
       "        text-align: right;\n",
       "    }\n",
       "</style>\n",
       "<table border=\"1\" class=\"dataframe\">\n",
       "  <thead>\n",
       "    <tr style=\"text-align: right;\">\n",
       "      <th></th>\n",
       "      <th>id</th>\n",
       "      <th>cuisine</th>\n",
       "      <th>ingredients</th>\n",
       "      <th>new</th>\n",
       "    </tr>\n",
       "  </thead>\n",
       "  <tbody>\n",
       "    <tr>\n",
       "      <td>0</td>\n",
       "      <td>10259</td>\n",
       "      <td>greek</td>\n",
       "      <td>[romaine lettuce, black olives, grape tomatoes...</td>\n",
       "      <td>[10259, greek, [romaine lettuce, black olives,...</td>\n",
       "    </tr>\n",
       "    <tr>\n",
       "      <td>1</td>\n",
       "      <td>25693</td>\n",
       "      <td>southern_us</td>\n",
       "      <td>[plain flour, ground pepper, salt, tomatoes, g...</td>\n",
       "      <td>[25693, southern_us, [plain flour, ground pepp...</td>\n",
       "    </tr>\n",
       "    <tr>\n",
       "      <td>2</td>\n",
       "      <td>20130</td>\n",
       "      <td>filipino</td>\n",
       "      <td>[eggs, pepper, salt, mayonaise, cooking oil, g...</td>\n",
       "      <td>[20130, filipino, [eggs, pepper, salt, mayonai...</td>\n",
       "    </tr>\n",
       "    <tr>\n",
       "      <td>3</td>\n",
       "      <td>22213</td>\n",
       "      <td>indian</td>\n",
       "      <td>[water, vegetable oil, wheat, salt]</td>\n",
       "      <td>[22213, indian, [water, vegetable oil, wheat, ...</td>\n",
       "    </tr>\n",
       "    <tr>\n",
       "      <td>4</td>\n",
       "      <td>13162</td>\n",
       "      <td>indian</td>\n",
       "      <td>[black pepper, shallots, cornflour, cayenne pe...</td>\n",
       "      <td>[13162, indian, [black pepper, shallots, cornf...</td>\n",
       "    </tr>\n",
       "    <tr>\n",
       "      <td>...</td>\n",
       "      <td>...</td>\n",
       "      <td>...</td>\n",
       "      <td>...</td>\n",
       "      <td>...</td>\n",
       "    </tr>\n",
       "    <tr>\n",
       "      <td>39769</td>\n",
       "      <td>29109</td>\n",
       "      <td>irish</td>\n",
       "      <td>[light brown sugar, granulated sugar, butter, ...</td>\n",
       "      <td>[29109, irish, [light brown sugar, granulated ...</td>\n",
       "    </tr>\n",
       "    <tr>\n",
       "      <td>39770</td>\n",
       "      <td>11462</td>\n",
       "      <td>italian</td>\n",
       "      <td>[KRAFT Zesty Italian Dressing, purple onion, b...</td>\n",
       "      <td>[11462, italian, [KRAFT Zesty Italian Dressing...</td>\n",
       "    </tr>\n",
       "    <tr>\n",
       "      <td>39771</td>\n",
       "      <td>2238</td>\n",
       "      <td>irish</td>\n",
       "      <td>[eggs, citrus fruit, raisins, sourdough starte...</td>\n",
       "      <td>[2238, irish, [eggs, citrus fruit, raisins, so...</td>\n",
       "    </tr>\n",
       "    <tr>\n",
       "      <td>39772</td>\n",
       "      <td>41882</td>\n",
       "      <td>chinese</td>\n",
       "      <td>[boneless chicken skinless thigh, minced garli...</td>\n",
       "      <td>[41882, chinese, [boneless chicken skinless th...</td>\n",
       "    </tr>\n",
       "    <tr>\n",
       "      <td>39773</td>\n",
       "      <td>2362</td>\n",
       "      <td>mexican</td>\n",
       "      <td>[green chile, jalapeno chilies, onions, ground...</td>\n",
       "      <td>[2362, mexican, [green chile, jalapeno chilies...</td>\n",
       "    </tr>\n",
       "  </tbody>\n",
       "</table>\n",
       "<p>39774 rows × 4 columns</p>\n",
       "</div>"
      ],
      "text/plain": [
       "          id      cuisine                                        ingredients  \\\n",
       "0      10259        greek  [romaine lettuce, black olives, grape tomatoes...   \n",
       "1      25693  southern_us  [plain flour, ground pepper, salt, tomatoes, g...   \n",
       "2      20130     filipino  [eggs, pepper, salt, mayonaise, cooking oil, g...   \n",
       "3      22213       indian                [water, vegetable oil, wheat, salt]   \n",
       "4      13162       indian  [black pepper, shallots, cornflour, cayenne pe...   \n",
       "...      ...          ...                                                ...   \n",
       "39769  29109        irish  [light brown sugar, granulated sugar, butter, ...   \n",
       "39770  11462      italian  [KRAFT Zesty Italian Dressing, purple onion, b...   \n",
       "39771   2238        irish  [eggs, citrus fruit, raisins, sourdough starte...   \n",
       "39772  41882      chinese  [boneless chicken skinless thigh, minced garli...   \n",
       "39773   2362      mexican  [green chile, jalapeno chilies, onions, ground...   \n",
       "\n",
       "                                                     new  \n",
       "0      [10259, greek, [romaine lettuce, black olives,...  \n",
       "1      [25693, southern_us, [plain flour, ground pepp...  \n",
       "2      [20130, filipino, [eggs, pepper, salt, mayonai...  \n",
       "3      [22213, indian, [water, vegetable oil, wheat, ...  \n",
       "4      [13162, indian, [black pepper, shallots, cornf...  \n",
       "...                                                  ...  \n",
       "39769  [29109, irish, [light brown sugar, granulated ...  \n",
       "39770  [11462, italian, [KRAFT Zesty Italian Dressing...  \n",
       "39771  [2238, irish, [eggs, citrus fruit, raisins, so...  \n",
       "39772  [41882, chinese, [boneless chicken skinless th...  \n",
       "39773  [2362, mexican, [green chile, jalapeno chilies...  \n",
       "\n",
       "[39774 rows x 4 columns]"
      ]
     },
     "execution_count": 37,
     "metadata": {},
     "output_type": "execute_result"
    }
   ],
   "source": [
    "df_yummly"
   ]
  },
  {
   "cell_type": "code",
   "execution_count": 38,
   "metadata": {},
   "outputs": [],
   "source": [
    "ingr = res"
   ]
  },
  {
   "cell_type": "code",
   "execution_count": 39,
   "metadata": {},
   "outputs": [],
   "source": [
    "#df_yummly.values[0].tolist()"
   ]
  },
  {
   "cell_type": "code",
   "execution_count": 40,
   "metadata": {},
   "outputs": [],
   "source": [
    "ingr_list = []\n",
    "for item in ingr:\n",
    "    for i in item:\n",
    "        ingr_list.append(i)"
   ]
  },
  {
   "cell_type": "code",
   "execution_count": 41,
   "metadata": {},
   "outputs": [],
   "source": [
    "#ingr_list"
   ]
  },
  {
   "cell_type": "code",
   "execution_count": 42,
   "metadata": {},
   "outputs": [],
   "source": [
    "#from sklearn.feature_extraction.text import TfidfVectorizer\n",
    "#tf_trial = TfidfVectorizer()\n",
    "#tf_transf= tf_trial.fit_transform(ingr_list)\n",
    "#tf_transf.shape"
   ]
  },
  {
   "cell_type": "code",
   "execution_count": 43,
   "metadata": {},
   "outputs": [],
   "source": [
    "#my_new = tf_trial.fit_transform(df_yummly['ingredients'])"
   ]
  },
  {
   "cell_type": "code",
   "execution_count": 44,
   "metadata": {},
   "outputs": [],
   "source": [
    "#tf_new = tf_trial.fit_transform(new_list)"
   ]
  },
  {
   "cell_type": "code",
   "execution_count": 45,
   "metadata": {},
   "outputs": [],
   "source": [
    "#from sklearn.cluster import KMeans\n",
    "#help(sklearn.cluster)\n",
    "#help(KMeans)\n",
    "\n",
    "#km_ingr = KMeans(n_clusters=5)\n",
    "#km_ingr.fit(tf_transf)"
   ]
  },
  {
   "cell_type": "code",
   "execution_count": 46,
   "metadata": {},
   "outputs": [],
   "source": [
    "#%time\n",
    "#%timeit\n",
    "#km_ingr.labels_"
   ]
  },
  {
   "cell_type": "code",
   "execution_count": 47,
   "metadata": {},
   "outputs": [],
   "source": [
    "#km_ingr.labels_"
   ]
  },
  {
   "cell_type": "code",
   "execution_count": 48,
   "metadata": {},
   "outputs": [],
   "source": [
    "#import pandas as pd\n",
    "#df = pd.DataFrame({'docId': [1,2,3], \n",
    "               #'sent': ['This is the first sentence','This is the second sentence', 'This is the third sentence']})"
   ]
  },
  {
   "cell_type": "code",
   "execution_count": 49,
   "metadata": {},
   "outputs": [
    {
     "data": {
      "text/plain": [
       "array([list(['romaine lettuce', 'black olives', 'grape tomatoes', 'garlic', 'pepper', 'purple onion', 'seasoning', 'garbanzo beans', 'feta cheese crumbles']),\n",
       "       list(['plain flour', 'ground pepper', 'salt', 'tomatoes', 'ground black pepper', 'thyme', 'eggs', 'green tomatoes', 'yellow corn meal', 'milk', 'vegetable oil']),\n",
       "       list(['eggs', 'pepper', 'salt', 'mayonaise', 'cooking oil', 'green chilies', 'grilled chicken breasts', 'garlic powder', 'yellow onion', 'soy sauce', 'butter', 'chicken livers']),\n",
       "       ...,\n",
       "       list(['eggs', 'citrus fruit', 'raisins', 'sourdough starter', 'flour', 'hot tea', 'sugar', 'ground nutmeg', 'salt', 'ground cinnamon', 'milk', 'butter']),\n",
       "       list(['boneless chicken skinless thigh', 'minced garlic', 'steamed white rice', 'baking powder', 'corn starch', 'dark soy sauce', 'kosher salt', 'peanuts', 'flour', 'scallions', 'Chinese rice vinegar', 'vodka', 'fresh ginger', 'egg whites', 'broccoli', 'toasted sesame seeds', 'sugar', 'store bought low sodium chicken stock', 'baking soda', 'Shaoxing wine', 'oil']),\n",
       "       list(['green chile', 'jalapeno chilies', 'onions', 'ground black pepper', 'salt', 'chopped cilantro fresh', 'green bell pepper', 'garlic', 'white sugar', 'roma tomatoes', 'celery', 'dried oregano'])],\n",
       "      dtype=object)"
      ]
     },
     "execution_count": 49,
     "metadata": {},
     "output_type": "execute_result"
    }
   ],
   "source": [
    "df_yummly['ingredients'].values"
   ]
  },
  {
   "cell_type": "code",
   "execution_count": 50,
   "metadata": {},
   "outputs": [],
   "source": [
    "#import pandas as pd\n",
    "#df = pd.DataFrame({'docId': ['Ab','cd','ef'], \n",
    "               #'sent': ['This is the first sentence','This is the second sentence', 'This is the third sentence']})"
   ]
  },
  {
   "cell_type": "code",
   "execution_count": 51,
   "metadata": {},
   "outputs": [],
   "source": [
    "#df"
   ]
  },
  {
   "cell_type": "code",
   "execution_count": 52,
   "metadata": {},
   "outputs": [],
   "source": [
    "#df_yummly['join'] = df_yummly.ingridients.apply(', '.join)\n",
    "\n",
    "#df['liststring'] = [','.join(map(str, l)) for l in df['lists']]\n",
    "\n",
    "df_yummly['join'] = [', '.join(map(str, i)) for i in df_yummly['ingredients']]"
   ]
  },
  {
   "cell_type": "code",
   "execution_count": 53,
   "metadata": {},
   "outputs": [],
   "source": [
    "#tf_t = tf_trial.fit_transform(df['sent'])"
   ]
  },
  {
   "cell_type": "code",
   "execution_count": 54,
   "metadata": {},
   "outputs": [],
   "source": [
    "#tf_t"
   ]
  },
  {
   "cell_type": "code",
   "execution_count": 55,
   "metadata": {},
   "outputs": [],
   "source": [
    "#def list2Str(lst):\n",
    "    #if type(lst) is list: # apply conversion to list columns\n",
    "        #return\";\".join(lst)\n",
    "    #else:\n",
    "        #return lst\n",
    "\n",
    "#df.apply(lambda x: [list2Str(i) for i in x])"
   ]
  },
  {
   "cell_type": "code",
   "execution_count": 56,
   "metadata": {},
   "outputs": [],
   "source": [
    "df_yummly['new'] =df_yummly[['ingredients']].apply(lambda x: [list2Str(i) for i in x])"
   ]
  },
  {
   "cell_type": "code",
   "execution_count": 57,
   "metadata": {},
   "outputs": [
    {
     "data": {
      "text/html": [
       "<div>\n",
       "<style scoped>\n",
       "    .dataframe tbody tr th:only-of-type {\n",
       "        vertical-align: middle;\n",
       "    }\n",
       "\n",
       "    .dataframe tbody tr th {\n",
       "        vertical-align: top;\n",
       "    }\n",
       "\n",
       "    .dataframe thead th {\n",
       "        text-align: right;\n",
       "    }\n",
       "</style>\n",
       "<table border=\"1\" class=\"dataframe\">\n",
       "  <thead>\n",
       "    <tr style=\"text-align: right;\">\n",
       "      <th></th>\n",
       "      <th>id</th>\n",
       "      <th>cuisine</th>\n",
       "      <th>ingredients</th>\n",
       "      <th>new</th>\n",
       "      <th>join</th>\n",
       "    </tr>\n",
       "  </thead>\n",
       "  <tbody>\n",
       "    <tr>\n",
       "      <td>0</td>\n",
       "      <td>10259</td>\n",
       "      <td>greek</td>\n",
       "      <td>[romaine lettuce, black olives, grape tomatoes...</td>\n",
       "      <td>romaine lettuce;black olives;grape tomatoes;ga...</td>\n",
       "      <td>romaine lettuce, black olives, grape tomatoes,...</td>\n",
       "    </tr>\n",
       "    <tr>\n",
       "      <td>1</td>\n",
       "      <td>25693</td>\n",
       "      <td>southern_us</td>\n",
       "      <td>[plain flour, ground pepper, salt, tomatoes, g...</td>\n",
       "      <td>plain flour;ground pepper;salt;tomatoes;ground...</td>\n",
       "      <td>plain flour, ground pepper, salt, tomatoes, gr...</td>\n",
       "    </tr>\n",
       "    <tr>\n",
       "      <td>2</td>\n",
       "      <td>20130</td>\n",
       "      <td>filipino</td>\n",
       "      <td>[eggs, pepper, salt, mayonaise, cooking oil, g...</td>\n",
       "      <td>eggs;pepper;salt;mayonaise;cooking oil;green c...</td>\n",
       "      <td>eggs, pepper, salt, mayonaise, cooking oil, gr...</td>\n",
       "    </tr>\n",
       "    <tr>\n",
       "      <td>3</td>\n",
       "      <td>22213</td>\n",
       "      <td>indian</td>\n",
       "      <td>[water, vegetable oil, wheat, salt]</td>\n",
       "      <td>water;vegetable oil;wheat;salt</td>\n",
       "      <td>water, vegetable oil, wheat, salt</td>\n",
       "    </tr>\n",
       "    <tr>\n",
       "      <td>4</td>\n",
       "      <td>13162</td>\n",
       "      <td>indian</td>\n",
       "      <td>[black pepper, shallots, cornflour, cayenne pe...</td>\n",
       "      <td>black pepper;shallots;cornflour;cayenne pepper...</td>\n",
       "      <td>black pepper, shallots, cornflour, cayenne pep...</td>\n",
       "    </tr>\n",
       "    <tr>\n",
       "      <td>...</td>\n",
       "      <td>...</td>\n",
       "      <td>...</td>\n",
       "      <td>...</td>\n",
       "      <td>...</td>\n",
       "      <td>...</td>\n",
       "    </tr>\n",
       "    <tr>\n",
       "      <td>39769</td>\n",
       "      <td>29109</td>\n",
       "      <td>irish</td>\n",
       "      <td>[light brown sugar, granulated sugar, butter, ...</td>\n",
       "      <td>light brown sugar;granulated sugar;butter;warm...</td>\n",
       "      <td>light brown sugar, granulated sugar, butter, w...</td>\n",
       "    </tr>\n",
       "    <tr>\n",
       "      <td>39770</td>\n",
       "      <td>11462</td>\n",
       "      <td>italian</td>\n",
       "      <td>[KRAFT Zesty Italian Dressing, purple onion, b...</td>\n",
       "      <td>KRAFT Zesty Italian Dressing;purple onion;broc...</td>\n",
       "      <td>KRAFT Zesty Italian Dressing, purple onion, br...</td>\n",
       "    </tr>\n",
       "    <tr>\n",
       "      <td>39771</td>\n",
       "      <td>2238</td>\n",
       "      <td>irish</td>\n",
       "      <td>[eggs, citrus fruit, raisins, sourdough starte...</td>\n",
       "      <td>eggs;citrus fruit;raisins;sourdough starter;fl...</td>\n",
       "      <td>eggs, citrus fruit, raisins, sourdough starter...</td>\n",
       "    </tr>\n",
       "    <tr>\n",
       "      <td>39772</td>\n",
       "      <td>41882</td>\n",
       "      <td>chinese</td>\n",
       "      <td>[boneless chicken skinless thigh, minced garli...</td>\n",
       "      <td>boneless chicken skinless thigh;minced garlic;...</td>\n",
       "      <td>boneless chicken skinless thigh, minced garlic...</td>\n",
       "    </tr>\n",
       "    <tr>\n",
       "      <td>39773</td>\n",
       "      <td>2362</td>\n",
       "      <td>mexican</td>\n",
       "      <td>[green chile, jalapeno chilies, onions, ground...</td>\n",
       "      <td>green chile;jalapeno chilies;onions;ground bla...</td>\n",
       "      <td>green chile, jalapeno chilies, onions, ground ...</td>\n",
       "    </tr>\n",
       "  </tbody>\n",
       "</table>\n",
       "<p>39774 rows × 5 columns</p>\n",
       "</div>"
      ],
      "text/plain": [
       "          id      cuisine                                        ingredients  \\\n",
       "0      10259        greek  [romaine lettuce, black olives, grape tomatoes...   \n",
       "1      25693  southern_us  [plain flour, ground pepper, salt, tomatoes, g...   \n",
       "2      20130     filipino  [eggs, pepper, salt, mayonaise, cooking oil, g...   \n",
       "3      22213       indian                [water, vegetable oil, wheat, salt]   \n",
       "4      13162       indian  [black pepper, shallots, cornflour, cayenne pe...   \n",
       "...      ...          ...                                                ...   \n",
       "39769  29109        irish  [light brown sugar, granulated sugar, butter, ...   \n",
       "39770  11462      italian  [KRAFT Zesty Italian Dressing, purple onion, b...   \n",
       "39771   2238        irish  [eggs, citrus fruit, raisins, sourdough starte...   \n",
       "39772  41882      chinese  [boneless chicken skinless thigh, minced garli...   \n",
       "39773   2362      mexican  [green chile, jalapeno chilies, onions, ground...   \n",
       "\n",
       "                                                     new  \\\n",
       "0      romaine lettuce;black olives;grape tomatoes;ga...   \n",
       "1      plain flour;ground pepper;salt;tomatoes;ground...   \n",
       "2      eggs;pepper;salt;mayonaise;cooking oil;green c...   \n",
       "3                         water;vegetable oil;wheat;salt   \n",
       "4      black pepper;shallots;cornflour;cayenne pepper...   \n",
       "...                                                  ...   \n",
       "39769  light brown sugar;granulated sugar;butter;warm...   \n",
       "39770  KRAFT Zesty Italian Dressing;purple onion;broc...   \n",
       "39771  eggs;citrus fruit;raisins;sourdough starter;fl...   \n",
       "39772  boneless chicken skinless thigh;minced garlic;...   \n",
       "39773  green chile;jalapeno chilies;onions;ground bla...   \n",
       "\n",
       "                                                    join  \n",
       "0      romaine lettuce, black olives, grape tomatoes,...  \n",
       "1      plain flour, ground pepper, salt, tomatoes, gr...  \n",
       "2      eggs, pepper, salt, mayonaise, cooking oil, gr...  \n",
       "3                      water, vegetable oil, wheat, salt  \n",
       "4      black pepper, shallots, cornflour, cayenne pep...  \n",
       "...                                                  ...  \n",
       "39769  light brown sugar, granulated sugar, butter, w...  \n",
       "39770  KRAFT Zesty Italian Dressing, purple onion, br...  \n",
       "39771  eggs, citrus fruit, raisins, sourdough starter...  \n",
       "39772  boneless chicken skinless thigh, minced garlic...  \n",
       "39773  green chile, jalapeno chilies, onions, ground ...  \n",
       "\n",
       "[39774 rows x 5 columns]"
      ]
     },
     "execution_count": 57,
     "metadata": {},
     "output_type": "execute_result"
    }
   ],
   "source": [
    "df_yummly"
   ]
  },
  {
   "cell_type": "code",
   "execution_count": 58,
   "metadata": {},
   "outputs": [],
   "source": [
    "#from sklearn.feature_extraction.text import TfidfVectorizer\n",
    "#tf_trial = TfidfVectorizer()\n",
    "#tf_tr = tf_trial.fit_transform(df_yummly['join'])"
   ]
  },
  {
   "cell_type": "code",
   "execution_count": 59,
   "metadata": {},
   "outputs": [
    {
     "data": {
      "text/plain": [
       "(39774, 3051)"
      ]
     },
     "execution_count": 59,
     "metadata": {},
     "output_type": "execute_result"
    }
   ],
   "source": [
    "#tf_tr.shape\n",
    "\n",
    "#row, column"
   ]
  },
  {
   "cell_type": "code",
   "execution_count": 60,
   "metadata": {},
   "outputs": [
    {
     "data": {
      "text/plain": [
       "(39774, 5)"
      ]
     },
     "execution_count": 60,
     "metadata": {},
     "output_type": "execute_result"
    }
   ],
   "source": [
    "#df_yummly.shape\n",
    "\n",
    "#row, column"
   ]
  },
  {
   "cell_type": "code",
   "execution_count": 61,
   "metadata": {},
   "outputs": [],
   "source": [
    "#from sklearn.cluster import KMeans\n",
    "#help(sklearn.cluster)\n",
    "#help(KMeans)\n",
    "\n",
    "#km_new = KMeans(n_clusters=5)\n",
    "#km_new.fit(tf_tr)"
   ]
  },
  {
   "cell_type": "code",
   "execution_count": 62,
   "metadata": {},
   "outputs": [],
   "source": [
    "df_next = df_yummly"
   ]
  },
  {
   "cell_type": "code",
   "execution_count": 64,
   "metadata": {},
   "outputs": [],
   "source": [
    "df_next.drop(['ingredients'], axis = 1, inplace = True)"
   ]
  },
  {
   "cell_type": "code",
   "execution_count": 65,
   "metadata": {},
   "outputs": [],
   "source": [
    "df_next.drop(['new'], axis = 1, inplace = True)"
   ]
  },
  {
   "cell_type": "code",
   "execution_count": 66,
   "metadata": {},
   "outputs": [
    {
     "data": {
      "text/html": [
       "<div>\n",
       "<style scoped>\n",
       "    .dataframe tbody tr th:only-of-type {\n",
       "        vertical-align: middle;\n",
       "    }\n",
       "\n",
       "    .dataframe tbody tr th {\n",
       "        vertical-align: top;\n",
       "    }\n",
       "\n",
       "    .dataframe thead th {\n",
       "        text-align: right;\n",
       "    }\n",
       "</style>\n",
       "<table border=\"1\" class=\"dataframe\">\n",
       "  <thead>\n",
       "    <tr style=\"text-align: right;\">\n",
       "      <th></th>\n",
       "      <th>id</th>\n",
       "      <th>cuisine</th>\n",
       "      <th>join</th>\n",
       "    </tr>\n",
       "  </thead>\n",
       "  <tbody>\n",
       "    <tr>\n",
       "      <td>0</td>\n",
       "      <td>10259</td>\n",
       "      <td>greek</td>\n",
       "      <td>romaine lettuce, black olives, grape tomatoes,...</td>\n",
       "    </tr>\n",
       "    <tr>\n",
       "      <td>1</td>\n",
       "      <td>25693</td>\n",
       "      <td>southern_us</td>\n",
       "      <td>plain flour, ground pepper, salt, tomatoes, gr...</td>\n",
       "    </tr>\n",
       "    <tr>\n",
       "      <td>2</td>\n",
       "      <td>20130</td>\n",
       "      <td>filipino</td>\n",
       "      <td>eggs, pepper, salt, mayonaise, cooking oil, gr...</td>\n",
       "    </tr>\n",
       "    <tr>\n",
       "      <td>3</td>\n",
       "      <td>22213</td>\n",
       "      <td>indian</td>\n",
       "      <td>water, vegetable oil, wheat, salt</td>\n",
       "    </tr>\n",
       "    <tr>\n",
       "      <td>4</td>\n",
       "      <td>13162</td>\n",
       "      <td>indian</td>\n",
       "      <td>black pepper, shallots, cornflour, cayenne pep...</td>\n",
       "    </tr>\n",
       "    <tr>\n",
       "      <td>...</td>\n",
       "      <td>...</td>\n",
       "      <td>...</td>\n",
       "      <td>...</td>\n",
       "    </tr>\n",
       "    <tr>\n",
       "      <td>39769</td>\n",
       "      <td>29109</td>\n",
       "      <td>irish</td>\n",
       "      <td>light brown sugar, granulated sugar, butter, w...</td>\n",
       "    </tr>\n",
       "    <tr>\n",
       "      <td>39770</td>\n",
       "      <td>11462</td>\n",
       "      <td>italian</td>\n",
       "      <td>KRAFT Zesty Italian Dressing, purple onion, br...</td>\n",
       "    </tr>\n",
       "    <tr>\n",
       "      <td>39771</td>\n",
       "      <td>2238</td>\n",
       "      <td>irish</td>\n",
       "      <td>eggs, citrus fruit, raisins, sourdough starter...</td>\n",
       "    </tr>\n",
       "    <tr>\n",
       "      <td>39772</td>\n",
       "      <td>41882</td>\n",
       "      <td>chinese</td>\n",
       "      <td>boneless chicken skinless thigh, minced garlic...</td>\n",
       "    </tr>\n",
       "    <tr>\n",
       "      <td>39773</td>\n",
       "      <td>2362</td>\n",
       "      <td>mexican</td>\n",
       "      <td>green chile, jalapeno chilies, onions, ground ...</td>\n",
       "    </tr>\n",
       "  </tbody>\n",
       "</table>\n",
       "<p>39774 rows × 3 columns</p>\n",
       "</div>"
      ],
      "text/plain": [
       "          id      cuisine                                               join\n",
       "0      10259        greek  romaine lettuce, black olives, grape tomatoes,...\n",
       "1      25693  southern_us  plain flour, ground pepper, salt, tomatoes, gr...\n",
       "2      20130     filipino  eggs, pepper, salt, mayonaise, cooking oil, gr...\n",
       "3      22213       indian                  water, vegetable oil, wheat, salt\n",
       "4      13162       indian  black pepper, shallots, cornflour, cayenne pep...\n",
       "...      ...          ...                                                ...\n",
       "39769  29109        irish  light brown sugar, granulated sugar, butter, w...\n",
       "39770  11462      italian  KRAFT Zesty Italian Dressing, purple onion, br...\n",
       "39771   2238        irish  eggs, citrus fruit, raisins, sourdough starter...\n",
       "39772  41882      chinese  boneless chicken skinless thigh, minced garlic...\n",
       "39773   2362      mexican  green chile, jalapeno chilies, onions, ground ...\n",
       "\n",
       "[39774 rows x 3 columns]"
      ]
     },
     "execution_count": 66,
     "metadata": {},
     "output_type": "execute_result"
    }
   ],
   "source": [
    "df_next"
   ]
  },
  {
   "cell_type": "code",
   "execution_count": 67,
   "metadata": {},
   "outputs": [],
   "source": [
    "from sklearn.model_selection import train_test_split\n",
    "\n",
    "X_train, X_test, y_train, y_test = train_test_split(df_next['join'],\n",
    "                                                   df_next['id'],\n",
    "                                                   test_size = 0.20,\n",
    "                                                   random_state = 3)\n",
    "#using ID as label "
   ]
  },
  {
   "cell_type": "code",
   "execution_count": 68,
   "metadata": {},
   "outputs": [],
   "source": [
    "#X_train"
   ]
  },
  {
   "cell_type": "code",
   "execution_count": 69,
   "metadata": {},
   "outputs": [],
   "source": [
    "#X_test"
   ]
  },
  {
   "cell_type": "code",
   "execution_count": 98,
   "metadata": {},
   "outputs": [],
   "source": [
    "#fitting and transforming training dataset\n",
    "\n",
    "from sklearn.feature_extraction.text import TfidfVectorizer\n",
    "tf_model = TfidfVectorizer()\n",
    "tf_train = tf_model.fit_transform(X_train)\n"
   ]
  },
  {
   "cell_type": "code",
   "execution_count": 99,
   "metadata": {},
   "outputs": [
    {
     "name": "stdout",
     "output_type": "stream",
     "text": [
      "(31819, 2934)\n"
     ]
    }
   ],
   "source": [
    "print(tf_train.shape)\n",
    "train_labels = y_train"
   ]
  },
  {
   "cell_type": "code",
   "execution_count": 100,
   "metadata": {},
   "outputs": [],
   "source": [
    "#Transforming test dataset\n",
    "\n",
    "tf_test = tf_trial.transform(X_test)"
   ]
  },
  {
   "cell_type": "code",
   "execution_count": 101,
   "metadata": {},
   "outputs": [
    {
     "name": "stdout",
     "output_type": "stream",
     "text": [
      "(7955, 2934)\n"
     ]
    }
   ],
   "source": [
    "print(tf_test.shape)\n",
    "test_labels = X_train"
   ]
  },
  {
   "cell_type": "code",
   "execution_count": 75,
   "metadata": {},
   "outputs": [
    {
     "name": "stdout",
     "output_type": "stream",
     "text": [
      "For no of clusters = 2  The average silhouette_score is : 0.022375649128187246\n",
      "For no of clusters = 3  The average silhouette_score is : 0.019435533608160065\n",
      "For no of clusters = 4  The average silhouette_score is : 0.0205071118298483\n",
      "For no of clusters = 5  The average silhouette_score is : 0.01851205643970611\n",
      "For no of clusters = 6  The average silhouette_score is : 0.019825856715787155\n",
      "For no of clusters = 7  The average silhouette_score is : 0.02065286260489583\n",
      "For no of clusters = 8  The average silhouette_score is : 0.021311475090165958\n",
      "For no of clusters = 9  The average silhouette_score is : 0.022300315733334082\n",
      "For no of clusters = 10  The average silhouette_score is : 0.02065240086961908\n",
      "For no of clusters = 11  The average silhouette_score is : 0.019976943015945343\n",
      "For no of clusters = 12  The average silhouette_score is : 0.020058158689551214\n",
      "For no of clusters = 13  The average silhouette_score is : 0.02003062840575404\n",
      "For no of clusters = 14  The average silhouette_score is : 0.02021960429956733\n",
      "For no of clusters = 15  The average silhouette_score is : 0.019703352702554293\n"
     ]
    }
   ],
   "source": [
    "#Skip, it'll take a long time to run\n",
    "\n",
    "from sklearn.metrics import silhouette_score\n",
    "from sklearn.cluster import KMeans\n",
    "\n",
    "num_clus = [2,3,4,5,6,7,8,9,10,11,12,13,14,15]\n",
    "\n",
    "for num in num_clus:\n",
    "    \n",
    "    newK = KMeans(n_clusters = num)\n",
    "    \n",
    "    sil_Y = newK.fit_predict(tf_train)\n",
    "\n",
    "    my_score = silhouette_score(tf_train, sil_Y)\n",
    "    \n",
    "    #print(\"For no of clusters =\", num, \n",
    "          #\" The average silhouette_score is :\", my_score)\n",
    "    "
   ]
  },
  {
   "cell_type": "code",
   "execution_count": null,
   "metadata": {},
   "outputs": [],
   "source": [
    "'''\n",
    "For no of clusters = 2  The average silhouette_score is : 0.022375649128187246\n",
    "For no of clusters = 3  The average silhouette_score is : 0.019435533608160065\n",
    "For no of clusters = 4  The average silhouette_score is : 0.0205071118298483\n",
    "For no of clusters = 5  The average silhouette_score is : 0.01851205643970611\n",
    "For no of clusters = 6  The average silhouette_score is : 0.019825856715787155\n",
    "For no of clusters = 7  The average silhouette_score is : 0.02065286260489583\n",
    "For no of clusters = 8  The average silhouette_score is : 0.021311475090165958\n",
    "For no of clusters = 9  The average silhouette_score is : 0.022300315733334082\n",
    "For no of clusters = 10  The average silhouette_score is : 0.02065240086961908\n",
    "For no of clusters = 11  The average silhouette_score is : 0.019976943015945343\n",
    "For no of clusters = 12  The average silhouette_score is : 0.020058158689551214\n",
    "For no of clusters = 13  The average silhouette_score is : 0.02003062840575404\n",
    "For no of clusters = 14  The average silhouette_score is : 0.02021960429956733\n",
    "For no of clusters = 15  The average silhouette_score is : 0.019703352702554293\n",
    "'''"
   ]
  },
  {
   "cell_type": "code",
   "execution_count": 76,
   "metadata": {},
   "outputs": [
    {
     "data": {
      "text/plain": [
       "KMeans(algorithm='auto', copy_x=True, init='k-means++', max_iter=300,\n",
       "       n_clusters=9, n_init=10, n_jobs=None, precompute_distances='auto',\n",
       "       random_state=None, tol=0.0001, verbose=0)"
      ]
     },
     "execution_count": 76,
     "metadata": {},
     "output_type": "execute_result"
    }
   ],
   "source": [
    "from sklearn.cluster import KMeans\n",
    "#help(sklearn.cluster)\n",
    "#help(KMeans)\n",
    "\n",
    "km_train = KMeans(n_clusters = 9)\n",
    "km_train.fit(tf_train)"
   ]
  },
  {
   "cell_type": "code",
   "execution_count": 77,
   "metadata": {},
   "outputs": [
    {
     "data": {
      "text/plain": [
       "array([1, 6, 7, ..., 1, 3, 2])"
      ]
     },
     "execution_count": 77,
     "metadata": {},
     "output_type": "execute_result"
    }
   ],
   "source": [
    "km_train.labels_"
   ]
  },
  {
   "cell_type": "code",
   "execution_count": 78,
   "metadata": {},
   "outputs": [],
   "source": [
    "#X_train"
   ]
  },
  {
   "cell_type": "code",
   "execution_count": 79,
   "metadata": {},
   "outputs": [],
   "source": [
    "#y_train"
   ]
  },
  {
   "cell_type": "code",
   "execution_count": 80,
   "metadata": {},
   "outputs": [
    {
     "data": {
      "text/plain": [
       "array([[1000, 2121,   47, ..., 1257, 1258,    0],\n",
       "       [1817, 1028, 2831, ..., 1380, 1381,    0],\n",
       "       [1185,  752,  662, ..., 1714, 1713,    0],\n",
       "       ...,\n",
       "       [2311, 2477, 2360, ..., 1672, 1674,    0],\n",
       "       [2574, 1665,  374, ...,  628, 2394, 2214],\n",
       "       [ 513, 1893, 1160, ..., 1692, 1694,    0]], dtype=int64)"
      ]
     },
     "execution_count": 80,
     "metadata": {},
     "output_type": "execute_result"
    }
   ],
   "source": [
    "topn_features = 9\n",
    "centroids_ord = km_train.cluster_centers_.argsort()[:, ::-1]\n",
    "centroids_ord"
   ]
  },
  {
   "cell_type": "code",
   "execution_count": 81,
   "metadata": {},
   "outputs": [],
   "source": [
    "km_train_labels = km_train.predict(tf_train)  #labels from k-means clustering"
   ]
  },
  {
   "cell_type": "code",
   "execution_count": 82,
   "metadata": {},
   "outputs": [
    {
     "data": {
      "text/plain": [
       "array([1, 6, 7, ..., 1, 3, 2])"
      ]
     },
     "execution_count": 82,
     "metadata": {},
     "output_type": "execute_result"
    }
   ],
   "source": [
    "km_train_labels"
   ]
  },
  {
   "cell_type": "code",
   "execution_count": 112,
   "metadata": {},
   "outputs": [
    {
     "name": "stdout",
     "output_type": "stream",
     "text": [
      "Cluster 0:\n",
      "\n",
      " 7\n",
      " 5\n",
      " 6\n",
      " 1\n",
      " 3\n",
      " 7\n",
      " 8\n",
      " 8\n",
      " 1\n",
      " 2\n",
      "\n",
      "Cluster 1:\n",
      "\n",
      " 5\n",
      " 6\n",
      " 2\n",
      " 8\n",
      " 5\n",
      " 5\n",
      " 0\n",
      " 6\n",
      " 1\n",
      " 6\n",
      "\n",
      "Cluster 2:\n",
      "\n",
      " 1\n",
      " 2\n",
      " 3\n",
      " 8\n",
      " 1\n",
      " 8\n",
      " 2\n",
      " 7\n",
      " 1\n",
      " 2\n",
      "\n",
      "Cluster 3:\n",
      "\n",
      " 1\n",
      " 1\n",
      " 7\n",
      " 8\n",
      " 4\n",
      " 6\n",
      " 5\n",
      " 4\n",
      " 3\n",
      " 7\n",
      "\n",
      "Cluster 4:\n",
      "\n",
      " 8\n",
      " 4\n",
      " 6\n",
      " 4\n",
      " 5\n",
      " 1\n",
      " 5\n",
      " 6\n",
      " 4\n",
      " 1\n",
      "\n",
      "Cluster 5:\n",
      "\n",
      " 5\n",
      " 4\n",
      " 1\n",
      " 1\n",
      " 6\n",
      " 1\n",
      " 7\n",
      " 3\n",
      " 4\n",
      " 5\n",
      "\n",
      "Cluster 6:\n",
      "\n",
      " 5\n",
      " 2\n",
      " 6\n",
      " 5\n",
      " 1\n",
      " 1\n",
      " 3\n",
      " 6\n",
      " 1\n",
      " 2\n",
      "\n",
      "Cluster 7:\n",
      "\n",
      " 3\n",
      " 1\n",
      " 8\n",
      " 4\n",
      " 1\n",
      " 1\n",
      " 8\n",
      " 7\n",
      " 0\n",
      " 5\n",
      "\n",
      "Cluster 8:\n",
      "\n",
      " 1\n",
      " 7\n",
      " 0\n",
      " 1\n",
      " 5\n",
      " 6\n",
      " 5\n",
      " 1\n",
      " 6\n",
      " 0\n",
      "\n"
     ]
    },
    {
     "data": {
      "text/plain": [
       "0"
      ]
     },
     "execution_count": 112,
     "metadata": {},
     "output_type": "execute_result"
    }
   ],
   "source": [
    "#printing clusters \n",
    "n_clusters = 9\n",
    "\n",
    "for i in range(n_clusters):\n",
    "    \n",
    "    print(\"Cluster %d:\" % i),\n",
    "    \n",
    "    print()\n",
    "    \n",
    "    for item in centroids_ord[i, :10]:\n",
    "        \n",
    "        print(' %s' % km_train_labels[item]),\n",
    "        \n",
    "    print\n",
    "    print()\n",
    "\n"
   ]
  },
  {
   "cell_type": "code",
   "execution_count": null,
   "metadata": {},
   "outputs": [],
   "source": [
    "tf_model = TfidfVectorizer()\n",
    "#tf_train = tf_model.fit_transform(X_train)\n",
    "\n",
    "tf_i = tf_model.fit(X_train)\n",
    "tf_j = tf_model.transform(X_train)\n",
    "#km_train = KMeans(n_clusters = 9)\n",
    "#km_train.fit(tf_train)\n"
   ]
  },
  {
   "cell_type": "code",
   "execution_count": 106,
   "metadata": {},
   "outputs": [],
   "source": [
    "my_input = ['paprika', 'banana', 'tomatoes']"
   ]
  },
  {
   "cell_type": "code",
   "execution_count": 107,
   "metadata": {},
   "outputs": [],
   "source": [
    "tf_input = TfidfVectorizer()\n",
    "\n",
    "tf_input_transf = tf_i.transform(my_input)\n"
   ]
  },
  {
   "cell_type": "code",
   "execution_count": 126,
   "metadata": {},
   "outputs": [
    {
     "ename": "ValueError",
     "evalue": "n_samples=3 should be >= n_clusters=9",
     "output_type": "error",
     "traceback": [
      "\u001b[1;31m---------------------------------------------------------------------------\u001b[0m",
      "\u001b[1;31mValueError\u001b[0m                                Traceback (most recent call last)",
      "\u001b[1;32m<ipython-input-126-b16f7e789575>\u001b[0m in \u001b[0;36m<module>\u001b[1;34m\u001b[0m\n\u001b[1;32m----> 1\u001b[1;33m \u001b[0mif_input_fit\u001b[0m \u001b[1;33m=\u001b[0m \u001b[0mkm_train\u001b[0m\u001b[1;33m.\u001b[0m\u001b[0mfit\u001b[0m\u001b[1;33m(\u001b[0m\u001b[0mtf_input_transf\u001b[0m\u001b[1;33m)\u001b[0m\u001b[1;33m\u001b[0m\u001b[1;33m\u001b[0m\u001b[0m\n\u001b[0m",
      "\u001b[1;32m~\\Anaconda3\\lib\\site-packages\\sklearn\\cluster\\k_means_.py\u001b[0m in \u001b[0;36mfit\u001b[1;34m(self, X, y, sample_weight)\u001b[0m\n\u001b[0;32m    970\u001b[0m                 \u001b[0mtol\u001b[0m\u001b[1;33m=\u001b[0m\u001b[0mself\u001b[0m\u001b[1;33m.\u001b[0m\u001b[0mtol\u001b[0m\u001b[1;33m,\u001b[0m \u001b[0mrandom_state\u001b[0m\u001b[1;33m=\u001b[0m\u001b[0mrandom_state\u001b[0m\u001b[1;33m,\u001b[0m \u001b[0mcopy_x\u001b[0m\u001b[1;33m=\u001b[0m\u001b[0mself\u001b[0m\u001b[1;33m.\u001b[0m\u001b[0mcopy_x\u001b[0m\u001b[1;33m,\u001b[0m\u001b[1;33m\u001b[0m\u001b[1;33m\u001b[0m\u001b[0m\n\u001b[0;32m    971\u001b[0m                 \u001b[0mn_jobs\u001b[0m\u001b[1;33m=\u001b[0m\u001b[0mself\u001b[0m\u001b[1;33m.\u001b[0m\u001b[0mn_jobs\u001b[0m\u001b[1;33m,\u001b[0m \u001b[0malgorithm\u001b[0m\u001b[1;33m=\u001b[0m\u001b[0mself\u001b[0m\u001b[1;33m.\u001b[0m\u001b[0malgorithm\u001b[0m\u001b[1;33m,\u001b[0m\u001b[1;33m\u001b[0m\u001b[1;33m\u001b[0m\u001b[0m\n\u001b[1;32m--> 972\u001b[1;33m                 return_n_iter=True)\n\u001b[0m\u001b[0;32m    973\u001b[0m         \u001b[1;32mreturn\u001b[0m \u001b[0mself\u001b[0m\u001b[1;33m\u001b[0m\u001b[1;33m\u001b[0m\u001b[0m\n\u001b[0;32m    974\u001b[0m \u001b[1;33m\u001b[0m\u001b[0m\n",
      "\u001b[1;32m~\\Anaconda3\\lib\\site-packages\\sklearn\\cluster\\k_means_.py\u001b[0m in \u001b[0;36mk_means\u001b[1;34m(X, n_clusters, sample_weight, init, precompute_distances, n_init, max_iter, verbose, tol, random_state, copy_x, n_jobs, algorithm, return_n_iter)\u001b[0m\n\u001b[0;32m    314\u001b[0m     \u001b[1;32mif\u001b[0m \u001b[0m_num_samples\u001b[0m\u001b[1;33m(\u001b[0m\u001b[0mX\u001b[0m\u001b[1;33m)\u001b[0m \u001b[1;33m<\u001b[0m \u001b[0mn_clusters\u001b[0m\u001b[1;33m:\u001b[0m\u001b[1;33m\u001b[0m\u001b[1;33m\u001b[0m\u001b[0m\n\u001b[0;32m    315\u001b[0m         raise ValueError(\"n_samples=%d should be >= n_clusters=%d\" % (\n\u001b[1;32m--> 316\u001b[1;33m             _num_samples(X), n_clusters))\n\u001b[0m\u001b[0;32m    317\u001b[0m \u001b[1;33m\u001b[0m\u001b[0m\n\u001b[0;32m    318\u001b[0m     \u001b[0mtol\u001b[0m \u001b[1;33m=\u001b[0m \u001b[0m_tolerance\u001b[0m\u001b[1;33m(\u001b[0m\u001b[0mX\u001b[0m\u001b[1;33m,\u001b[0m \u001b[0mtol\u001b[0m\u001b[1;33m)\u001b[0m\u001b[1;33m\u001b[0m\u001b[1;33m\u001b[0m\u001b[0m\n",
      "\u001b[1;31mValueError\u001b[0m: n_samples=3 should be >= n_clusters=9"
     ]
    }
   ],
   "source": [
    "if_input_fit = km_train.fit(tf_input_transf)"
   ]
  },
  {
   "cell_type": "code",
   "execution_count": 108,
   "metadata": {},
   "outputs": [],
   "source": [
    "my_predict = km_train.predict(tf_input_transf)  #the labels from k-means clustering "
   ]
  },
  {
   "cell_type": "code",
   "execution_count": 110,
   "metadata": {},
   "outputs": [
    {
     "data": {
      "text/plain": [
       "array([7, 7, 5])"
      ]
     },
     "execution_count": 110,
     "metadata": {},
     "output_type": "execute_result"
    }
   ],
   "source": [
    "my_predict"
   ]
  },
  {
   "cell_type": "code",
   "execution_count": 119,
   "metadata": {},
   "outputs": [],
   "source": [
    "from sklearn.linear_model import LogisticRegression\n",
    "#tf_model = TfidfVectorizer()\n",
    "#tf_train = tf_model.fit_transform(X_train)\n",
    "#X_train, X_test, y_train, y_test = train_test_split(df_next['join'],df_next['id'],test_size = 0.20, random_state = 3)\n",
    "\n",
    "log_reg = LogisticRegression(random_state = 30)\n",
    "#log_train = log_reg.fit(tf_train, y_train)  -- Taking very long to run"
   ]
  },
  {
   "cell_type": "code",
   "execution_count": null,
   "metadata": {},
   "outputs": [],
   "source": [
    "#if logistic regression run\n",
    "\n",
    "#log_predict = log_train.predict(X_test)   #appliying the model on X_test \n",
    "#log_input_predict = log_reg.predict(tf_input_transf) #predict classification of my input \n"
   ]
  },
  {
   "cell_type": "code",
   "execution_count": 120,
   "metadata": {},
   "outputs": [],
   "source": [
    "from sklearn.neighbors import KNeighborsClassifier\n",
    "\n",
    "knn_class = KNeighborsClassifier(n_neighbors=7)"
   ]
  },
  {
   "cell_type": "code",
   "execution_count": 122,
   "metadata": {},
   "outputs": [
    {
     "data": {
      "text/plain": [
       "KNeighborsClassifier(algorithm='auto', leaf_size=30, metric='minkowski',\n",
       "                     metric_params=None, n_jobs=None, n_neighbors=7, p=2,\n",
       "                     weights='uniform')"
      ]
     },
     "execution_count": 122,
     "metadata": {},
     "output_type": "execute_result"
    }
   ],
   "source": [
    "knn_class.fit(tf_train, y_train)   #training the model"
   ]
  },
  {
   "cell_type": "code",
   "execution_count": 124,
   "metadata": {},
   "outputs": [],
   "source": [
    "predict_knn = knn_class.predict(tf_test)  #using test set to test the model "
   ]
  },
  {
   "cell_type": "code",
   "execution_count": 125,
   "metadata": {},
   "outputs": [
    {
     "ename": "ValueError",
     "evalue": "Expected 2D array, got 1D array instead:\narray=[7 7 5].\nReshape your data either using array.reshape(-1, 1) if your data has a single feature or array.reshape(1, -1) if it contains a single sample.",
     "output_type": "error",
     "traceback": [
      "\u001b[1;31m---------------------------------------------------------------------------\u001b[0m",
      "\u001b[1;31mValueError\u001b[0m                                Traceback (most recent call last)",
      "\u001b[1;32m<ipython-input-125-012278878be6>\u001b[0m in \u001b[0;36m<module>\u001b[1;34m\u001b[0m\n\u001b[1;32m----> 1\u001b[1;33m \u001b[0mmy_knn\u001b[0m \u001b[1;33m=\u001b[0m \u001b[0mknn_class\u001b[0m\u001b[1;33m.\u001b[0m\u001b[0mpredict\u001b[0m\u001b[1;33m(\u001b[0m\u001b[0mmy_predict\u001b[0m\u001b[1;33m)\u001b[0m\u001b[1;33m\u001b[0m\u001b[1;33m\u001b[0m\u001b[0m\n\u001b[0m",
      "\u001b[1;32m~\\Anaconda3\\lib\\site-packages\\sklearn\\neighbors\\classification.py\u001b[0m in \u001b[0;36mpredict\u001b[1;34m(self, X)\u001b[0m\n\u001b[0;32m    145\u001b[0m             \u001b[0mClass\u001b[0m \u001b[0mlabels\u001b[0m \u001b[1;32mfor\u001b[0m \u001b[0meach\u001b[0m \u001b[0mdata\u001b[0m \u001b[0msample\u001b[0m\u001b[1;33m.\u001b[0m\u001b[1;33m\u001b[0m\u001b[1;33m\u001b[0m\u001b[0m\n\u001b[0;32m    146\u001b[0m         \"\"\"\n\u001b[1;32m--> 147\u001b[1;33m         \u001b[0mX\u001b[0m \u001b[1;33m=\u001b[0m \u001b[0mcheck_array\u001b[0m\u001b[1;33m(\u001b[0m\u001b[0mX\u001b[0m\u001b[1;33m,\u001b[0m \u001b[0maccept_sparse\u001b[0m\u001b[1;33m=\u001b[0m\u001b[1;34m'csr'\u001b[0m\u001b[1;33m)\u001b[0m\u001b[1;33m\u001b[0m\u001b[1;33m\u001b[0m\u001b[0m\n\u001b[0m\u001b[0;32m    148\u001b[0m \u001b[1;33m\u001b[0m\u001b[0m\n\u001b[0;32m    149\u001b[0m         \u001b[0mneigh_dist\u001b[0m\u001b[1;33m,\u001b[0m \u001b[0mneigh_ind\u001b[0m \u001b[1;33m=\u001b[0m \u001b[0mself\u001b[0m\u001b[1;33m.\u001b[0m\u001b[0mkneighbors\u001b[0m\u001b[1;33m(\u001b[0m\u001b[0mX\u001b[0m\u001b[1;33m)\u001b[0m\u001b[1;33m\u001b[0m\u001b[1;33m\u001b[0m\u001b[0m\n",
      "\u001b[1;32m~\\Anaconda3\\lib\\site-packages\\sklearn\\utils\\validation.py\u001b[0m in \u001b[0;36mcheck_array\u001b[1;34m(array, accept_sparse, accept_large_sparse, dtype, order, copy, force_all_finite, ensure_2d, allow_nd, ensure_min_samples, ensure_min_features, warn_on_dtype, estimator)\u001b[0m\n\u001b[0;32m    519\u001b[0m                     \u001b[1;34m\"Reshape your data either using array.reshape(-1, 1) if \"\u001b[0m\u001b[1;33m\u001b[0m\u001b[1;33m\u001b[0m\u001b[0m\n\u001b[0;32m    520\u001b[0m                     \u001b[1;34m\"your data has a single feature or array.reshape(1, -1) \"\u001b[0m\u001b[1;33m\u001b[0m\u001b[1;33m\u001b[0m\u001b[0m\n\u001b[1;32m--> 521\u001b[1;33m                     \"if it contains a single sample.\".format(array))\n\u001b[0m\u001b[0;32m    522\u001b[0m \u001b[1;33m\u001b[0m\u001b[0m\n\u001b[0;32m    523\u001b[0m         \u001b[1;31m# in the future np.flexible dtypes will be handled like object dtypes\u001b[0m\u001b[1;33m\u001b[0m\u001b[1;33m\u001b[0m\u001b[1;33m\u001b[0m\u001b[0m\n",
      "\u001b[1;31mValueError\u001b[0m: Expected 2D array, got 1D array instead:\narray=[7 7 5].\nReshape your data either using array.reshape(-1, 1) if your data has a single feature or array.reshape(1, -1) if it contains a single sample."
     ]
    }
   ],
   "source": [
    "my_knn = knn_class.predict(my_predict)"
   ]
  },
  {
   "cell_type": "code",
   "execution_count": 127,
   "metadata": {},
   "outputs": [],
   "source": [
    "tf_knn =knn_class.predict(tf_input_transf) #passsing vectorized input"
   ]
  },
  {
   "cell_type": "code",
   "execution_count": 131,
   "metadata": {},
   "outputs": [
    {
     "data": {
      "text/plain": [
       "array([ 2132,  5978, 10083], dtype=int64)"
      ]
     },
     "execution_count": 131,
     "metadata": {},
     "output_type": "execute_result"
    }
   ],
   "source": [
    "tf_knn"
   ]
  },
  {
   "cell_type": "code",
   "execution_count": null,
   "metadata": {},
   "outputs": [],
   "source": []
  }
 ],
 "metadata": {
  "kernelspec": {
   "display_name": "Python 3",
   "language": "python",
   "name": "python3"
  },
  "language_info": {
   "codemirror_mode": {
    "name": "ipython",
    "version": 3
   },
   "file_extension": ".py",
   "mimetype": "text/x-python",
   "name": "python",
   "nbconvert_exporter": "python",
   "pygments_lexer": "ipython3",
   "version": "3.7.4"
  }
 },
 "nbformat": 4,
 "nbformat_minor": 4
}
